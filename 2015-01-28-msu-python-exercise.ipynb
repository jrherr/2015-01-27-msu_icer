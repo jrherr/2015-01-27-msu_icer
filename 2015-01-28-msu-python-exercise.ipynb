{
 "metadata": {
  "name": ""
 },
 "nbformat": 3,
 "nbformat_minor": 0,
 "worksheets": [
  {
   "cells": [
    {
     "cell_type": "markdown",
     "metadata": {},
     "source": [
      "###List exercise"
     ]
    },
    {
     "cell_type": "code",
     "collapsed": false,
     "input": [
      "# 1) pick elements with length > 3 \n",
      "#     and with first and last letter the same\n",
      "l = ['', 'xyzzz', 'aabddda', 'xyx', 'bbbb']"
     ],
     "language": "python",
     "metadata": {},
     "outputs": []
    },
    {
     "cell_type": "code",
     "collapsed": false,
     "input": [
      "# 2) remove the duplicates in the following list\n",
      "l = [1,2,2,3,3,5,4,1,1,1]"
     ],
     "language": "python",
     "metadata": {},
     "outputs": [],
     "prompt_number": 2
    },
    {
     "cell_type": "markdown",
     "metadata": {},
     "source": [
      "### File stream exercise"
     ]
    },
    {
     "cell_type": "markdown",
     "metadata": {},
     "source": [
      "Extract taxonomy information from taxonomy file;\n",
      " \n",
      "Each line contains two fields **separated by a tab**: \n",
      " \n",
      "1. sequence name\n",
      " \n",
      "2. taxonomy (including 6 taxon levels separated by ';')\n",
      "\n",
      "\n",
      "In this exercise, we will count frequncy of domains (first level taxon, \"Bacteria in the example bellow)\n",
      "\n",
      "e.g. Bacteria;Proteobacteria;Alphaproteobacteria;Rhodospirillales;Da111;\n",
      " "
     ]
    },
    {
     "cell_type": "code",
     "collapsed": false,
     "input": [
      "!wget http://lyorn.idyll.org/~gjr/public2/swc/1k.taxonomy"
     ],
     "language": "python",
     "metadata": {},
     "outputs": [
      {
       "output_type": "stream",
       "stream": "stdout",
       "text": [
        "--2015-01-27 00:43:08--  http://lyorn.idyll.org/~gjr/public2/swc/1k.taxonomy\r\n"
       ]
      },
      {
       "output_type": "stream",
       "stream": "stdout",
       "text": [
        "Resolving lyorn.idyll.org (lyorn.idyll.org)... "
       ]
      },
      {
       "output_type": "stream",
       "stream": "stdout",
       "text": [
        "35.9.124.246\r\n",
        "Connecting to lyorn.idyll.org (lyorn.idyll.org)|35.9.124.246|:80... connected.\r\n",
        "HTTP request sent, awaiting response... "
       ]
      },
      {
       "output_type": "stream",
       "stream": "stdout",
       "text": [
        "200 OK\r\n",
        "Length: 104833 (102K)\r\n",
        "Saving to: \u201c1k.taxonomy\u201d\r\n",
        "\r\n",
        "\r",
        " 0% [                                       ] 0           --.-K/s              "
       ]
      },
      {
       "output_type": "stream",
       "stream": "stdout",
       "text": [
        "\r",
        "100%[======================================>] 104,833     --.-K/s   in 0.06s   \r\n",
        "\r\n"
       ]
      },
      {
       "output_type": "stream",
       "stream": "stdout",
       "text": [
        "2015-01-27 00:43:08 (1.61 MB/s) - \u201c1k.taxonomy\u201d saved [104833/104833]\r\n",
        "\r\n"
       ]
      }
     ],
     "prompt_number": 7
    },
    {
     "cell_type": "code",
     "collapsed": false,
     "input": [
      "# collect unique\n",
      "unique_list = []\n",
      "# collect all\n",
      "all_list = []\n",
      "for line in open('1k.taxonomy'):\n",
      "    # +++add your code+++\n",
      "\n",
      "# count unique, hint: list.count\n",
      "# +++add your code+++"
     ],
     "language": "python",
     "metadata": {},
     "outputs": [],
     "prompt_number": 7
    },
    {
     "cell_type": "code",
     "collapsed": false,
     "input": [],
     "language": "python",
     "metadata": {},
     "outputs": []
    }
   ],
   "metadata": {}
  }
 ]
}